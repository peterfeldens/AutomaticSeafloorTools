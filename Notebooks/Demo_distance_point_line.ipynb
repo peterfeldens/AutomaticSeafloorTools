{
 "cells": [
  {
   "cell_type": "code",
   "execution_count": 64,
   "metadata": {},
   "outputs": [
    {
     "name": "stderr",
     "output_type": "stream",
     "text": [
      "\n",
      "\n",
      "\n",
      "  0%|          | 0/38 [00:02<?, ?it/s]\u001B[A\u001B[A\u001B[A\n"
     ]
    },
    {
     "ename": "KeyboardInterrupt",
     "evalue": "",
     "output_type": "error",
     "traceback": [
      "\u001B[0;31m---------------------------------------------------------------------------\u001B[0m",
      "\u001B[0;31mKeyboardInterrupt\u001B[0m                         Traceback (most recent call last)",
      "\u001B[0;32m<ipython-input-64-6fa02f397a0d>\u001B[0m in \u001B[0;36m<module>\u001B[0;34m\u001B[0m\n\u001B[1;32m     51\u001B[0m         \u001B[0mmin_dist\u001B[0m \u001B[0;34m=\u001B[0m \u001B[0mnp\u001B[0m\u001B[0;34m.\u001B[0m\u001B[0mempty\u001B[0m\u001B[0;34m(\u001B[0m\u001B[0mlen\u001B[0m\u001B[0;34m(\u001B[0m\u001B[0mgpd_pixel_coordinates\u001B[0m\u001B[0;34m)\u001B[0m\u001B[0;34m)\u001B[0m\u001B[0;34m\u001B[0m\u001B[0m\n\u001B[1;32m     52\u001B[0m         \u001B[0;32mfor\u001B[0m \u001B[0mi\u001B[0m\u001B[0;34m,\u001B[0m \u001B[0mpoint\u001B[0m \u001B[0;32min\u001B[0m \u001B[0menumerate\u001B[0m\u001B[0;34m(\u001B[0m\u001B[0mgpd_pixel_coordinates\u001B[0m\u001B[0;34m)\u001B[0m\u001B[0;34m:\u001B[0m\u001B[0;34m\u001B[0m\u001B[0m\n\u001B[0;32m---> 53\u001B[0;31m             \u001B[0mmin_dist\u001B[0m\u001B[0;34m[\u001B[0m\u001B[0mi\u001B[0m\u001B[0;34m]\u001B[0m \u001B[0;34m=\u001B[0m \u001B[0mnp\u001B[0m\u001B[0;34m.\u001B[0m\u001B[0mmin\u001B[0m\u001B[0;34m(\u001B[0m\u001B[0;34m[\u001B[0m\u001B[0mpoint\u001B[0m\u001B[0;34m.\u001B[0m\u001B[0mdistance\u001B[0m\u001B[0;34m(\u001B[0m\u001B[0mline\u001B[0m\u001B[0;34m)\u001B[0m \u001B[0;32mfor\u001B[0m \u001B[0mline\u001B[0m \u001B[0;32min\u001B[0m \u001B[0mdf_lines\u001B[0m\u001B[0;34m]\u001B[0m\u001B[0;34m)\u001B[0m\u001B[0;34m\u001B[0m\u001B[0m\n\u001B[0m\u001B[1;32m     54\u001B[0m \u001B[0;34m\u001B[0m\u001B[0m\n\u001B[1;32m     55\u001B[0m         \u001B[0;31m# auf 0-255 skalieren\u001B[0m\u001B[0;34m\u001B[0m\u001B[0;34m\u001B[0m\u001B[0m\n",
      "\u001B[0;32m~/opt/anaconda3/envs/GIS/lib/python3.6/site-packages/pandas/core/base.py\u001B[0m in \u001B[0;36m__iter__\u001B[0;34m(self)\u001B[0m\n\u001B[1;32m   1196\u001B[0m         \"\"\"\n\u001B[1;32m   1197\u001B[0m         \u001B[0;31m# We are explicitly making element iterators.\u001B[0m\u001B[0;34m\u001B[0m\u001B[0;34m\u001B[0m\u001B[0m\n\u001B[0;32m-> 1198\u001B[0;31m         \u001B[0;32mif\u001B[0m \u001B[0mis_datetimelike\u001B[0m\u001B[0;34m(\u001B[0m\u001B[0mself\u001B[0m\u001B[0;34m.\u001B[0m\u001B[0m_values\u001B[0m\u001B[0;34m)\u001B[0m\u001B[0;34m:\u001B[0m\u001B[0;34m\u001B[0m\u001B[0m\n\u001B[0m\u001B[1;32m   1199\u001B[0m             \u001B[0;32mreturn\u001B[0m \u001B[0mmap\u001B[0m\u001B[0;34m(\u001B[0m\u001B[0mcom\u001B[0m\u001B[0;34m.\u001B[0m\u001B[0mmaybe_box_datetimelike\u001B[0m\u001B[0;34m,\u001B[0m \u001B[0mself\u001B[0m\u001B[0;34m.\u001B[0m\u001B[0m_values\u001B[0m\u001B[0;34m)\u001B[0m\u001B[0;34m\u001B[0m\u001B[0m\n\u001B[1;32m   1200\u001B[0m         \u001B[0;32melif\u001B[0m \u001B[0mis_extension_array_dtype\u001B[0m\u001B[0;34m(\u001B[0m\u001B[0mself\u001B[0m\u001B[0;34m.\u001B[0m\u001B[0m_values\u001B[0m\u001B[0;34m)\u001B[0m\u001B[0;34m:\u001B[0m\u001B[0;34m\u001B[0m\u001B[0m\n",
      "\u001B[0;32m~/opt/anaconda3/envs/GIS/lib/python3.6/site-packages/pandas/core/dtypes/common.py\u001B[0m in \u001B[0;36mis_datetimelike\u001B[0;34m(arr)\u001B[0m\n\u001B[1;32m    854\u001B[0m     return (\n\u001B[1;32m    855\u001B[0m         \u001B[0mis_datetime64_dtype\u001B[0m\u001B[0;34m(\u001B[0m\u001B[0marr\u001B[0m\u001B[0;34m)\u001B[0m\u001B[0;34m\u001B[0m\u001B[0m\n\u001B[0;32m--> 856\u001B[0;31m         \u001B[0;32mor\u001B[0m \u001B[0mis_datetime64tz_dtype\u001B[0m\u001B[0;34m(\u001B[0m\u001B[0marr\u001B[0m\u001B[0;34m)\u001B[0m\u001B[0;34m\u001B[0m\u001B[0m\n\u001B[0m\u001B[1;32m    857\u001B[0m         \u001B[0;32mor\u001B[0m \u001B[0mis_timedelta64_dtype\u001B[0m\u001B[0;34m(\u001B[0m\u001B[0marr\u001B[0m\u001B[0;34m)\u001B[0m\u001B[0;34m\u001B[0m\u001B[0m\n\u001B[1;32m    858\u001B[0m         \u001B[0;32mor\u001B[0m \u001B[0misinstance\u001B[0m\u001B[0;34m(\u001B[0m\u001B[0marr\u001B[0m\u001B[0;34m,\u001B[0m \u001B[0mABCPeriodIndex\u001B[0m\u001B[0;34m)\u001B[0m\u001B[0;34m\u001B[0m\u001B[0m\n",
      "\u001B[0;32m~/opt/anaconda3/envs/GIS/lib/python3.6/site-packages/pandas/core/dtypes/common.py\u001B[0m in \u001B[0;36mis_datetime64tz_dtype\u001B[0;34m(arr_or_dtype)\u001B[0m\n\u001B[1;32m    572\u001B[0m     \u001B[0;32mif\u001B[0m \u001B[0marr_or_dtype\u001B[0m \u001B[0;32mis\u001B[0m \u001B[0;32mNone\u001B[0m\u001B[0;34m:\u001B[0m\u001B[0;34m\u001B[0m\u001B[0m\n\u001B[1;32m    573\u001B[0m         \u001B[0;32mreturn\u001B[0m \u001B[0;32mFalse\u001B[0m\u001B[0;34m\u001B[0m\u001B[0m\n\u001B[0;32m--> 574\u001B[0;31m     \u001B[0;32mreturn\u001B[0m \u001B[0mDatetimeTZDtype\u001B[0m\u001B[0;34m.\u001B[0m\u001B[0mis_dtype\u001B[0m\u001B[0;34m(\u001B[0m\u001B[0marr_or_dtype\u001B[0m\u001B[0;34m)\u001B[0m\u001B[0;34m\u001B[0m\u001B[0m\n\u001B[0m\u001B[1;32m    575\u001B[0m \u001B[0;34m\u001B[0m\u001B[0m\n\u001B[1;32m    576\u001B[0m \u001B[0;34m\u001B[0m\u001B[0m\n",
      "\u001B[0;32m~/opt/anaconda3/envs/GIS/lib/python3.6/site-packages/pandas/core/dtypes/base.py\u001B[0m in \u001B[0;36mis_dtype\u001B[0;34m(cls, dtype)\u001B[0m\n\u001B[1;32m    254\u001B[0m         \u001B[0mdtype\u001B[0m \u001B[0;34m=\u001B[0m \u001B[0mgetattr\u001B[0m\u001B[0;34m(\u001B[0m\u001B[0mdtype\u001B[0m\u001B[0;34m,\u001B[0m \u001B[0;34m\"dtype\"\u001B[0m\u001B[0;34m,\u001B[0m \u001B[0mdtype\u001B[0m\u001B[0;34m)\u001B[0m\u001B[0;34m\u001B[0m\u001B[0m\n\u001B[1;32m    255\u001B[0m \u001B[0;34m\u001B[0m\u001B[0m\n\u001B[0;32m--> 256\u001B[0;31m         \u001B[0;32mif\u001B[0m \u001B[0misinstance\u001B[0m\u001B[0;34m(\u001B[0m\u001B[0mdtype\u001B[0m\u001B[0;34m,\u001B[0m \u001B[0;34m(\u001B[0m\u001B[0mABCSeries\u001B[0m\u001B[0;34m,\u001B[0m \u001B[0mABCIndexClass\u001B[0m\u001B[0;34m,\u001B[0m \u001B[0mABCDataFrame\u001B[0m\u001B[0;34m,\u001B[0m \u001B[0mnp\u001B[0m\u001B[0;34m.\u001B[0m\u001B[0mdtype\u001B[0m\u001B[0;34m)\u001B[0m\u001B[0;34m)\u001B[0m\u001B[0;34m:\u001B[0m\u001B[0;34m\u001B[0m\u001B[0m\n\u001B[0m\u001B[1;32m    257\u001B[0m             \u001B[0;31m# https://github.com/pandas-dev/pandas/issues/22960\u001B[0m\u001B[0;34m\u001B[0m\u001B[0;34m\u001B[0m\u001B[0m\n\u001B[1;32m    258\u001B[0m             \u001B[0;31m# avoid passing data to `construct_from_string`. This could\u001B[0m\u001B[0;34m\u001B[0m\u001B[0;34m\u001B[0m\u001B[0m\n",
      "\u001B[0;32m~/opt/anaconda3/envs/GIS/lib/python3.6/site-packages/pandas/core/dtypes/generic.py\u001B[0m in \u001B[0;36m_check\u001B[0;34m(cls, inst)\u001B[0m\n\u001B[1;32m      7\u001B[0m     \u001B[0;34m@\u001B[0m\u001B[0mclassmethod\u001B[0m\u001B[0;34m\u001B[0m\u001B[0m\n\u001B[1;32m      8\u001B[0m     \u001B[0;32mdef\u001B[0m \u001B[0m_check\u001B[0m\u001B[0;34m(\u001B[0m\u001B[0mcls\u001B[0m\u001B[0;34m,\u001B[0m \u001B[0minst\u001B[0m\u001B[0;34m)\u001B[0m\u001B[0;34m:\u001B[0m\u001B[0;34m\u001B[0m\u001B[0m\n\u001B[0;32m----> 9\u001B[0;31m         \u001B[0;32mreturn\u001B[0m \u001B[0mgetattr\u001B[0m\u001B[0;34m(\u001B[0m\u001B[0minst\u001B[0m\u001B[0;34m,\u001B[0m \u001B[0mattr\u001B[0m\u001B[0;34m,\u001B[0m \u001B[0;34m\"_typ\"\u001B[0m\u001B[0;34m)\u001B[0m \u001B[0;32min\u001B[0m \u001B[0mcomp\u001B[0m\u001B[0;34m\u001B[0m\u001B[0m\n\u001B[0m\u001B[1;32m     10\u001B[0m \u001B[0;34m\u001B[0m\u001B[0m\n\u001B[1;32m     11\u001B[0m     \u001B[0mdct\u001B[0m \u001B[0;34m=\u001B[0m \u001B[0mdict\u001B[0m\u001B[0;34m(\u001B[0m\u001B[0m__instancecheck__\u001B[0m\u001B[0;34m=\u001B[0m\u001B[0m_check\u001B[0m\u001B[0;34m,\u001B[0m \u001B[0m__subclasscheck__\u001B[0m\u001B[0;34m=\u001B[0m\u001B[0m_check\u001B[0m\u001B[0;34m)\u001B[0m\u001B[0;34m\u001B[0m\u001B[0m\n",
      "\u001B[0;31mKeyboardInterrupt\u001B[0m: "
     ]
    }
   ],
   "source": [
    "# Copy from https://stackoverflow.com/questions/30740046/calculate-distance-to-nearest-feature-with-geopandas\n",
    "%matplotlib inline\n",
    "import matplotlib.pyplot as plt\n",
    "import shapely.geometry as geom\n",
    "import numpy as np\n",
    "import pandas as pd\n",
    "import geopandas as gpd\n",
    "from shapely.geometry import Point, LineString\n",
    "import gdal \n",
    "from tqdm import tqdm\n",
    "\n",
    "def pixel2coord(col, row):\n",
    "    \"\"\"Returns global coordinates to pixel center using base-0 raster index\"\"\"\n",
    "    xp = a * col + b * row + a * 0.5 + b * 0.5 + c\n",
    "    yp = d * col + e * row + d * 0.5 + e * 0.5 + f\n",
    "    return(xp, yp)\n",
    "\n",
    "raster = './img/ptg_mussles.tif'\n",
    "block_x = 100 # ist gleich block_y, nur quadratische Ausschnitte\n",
    "band_number = 1 # band number of tif to use\n",
    "column_names_of_csv = ['Latitude', 'Longitude', 'filename']  # File Format of Nadir file\n",
    "\n",
    "#read Raster\n",
    "ds = gdal.Open(raster)  #open tif\n",
    "band = ds.GetRasterBand(band_number)  #read first band assuming to include the BS data\n",
    "# unravel GDAL affine transform parameters to get back coordinates\n",
    "c, a, b, f, d, e = ds.GetGeoTransform()\n",
    "\n",
    "max_width,max_height=ds.RasterXSize,ds.RasterYSize\n",
    "x_runs=list(range(0,max_width - block_x, block_x))\n",
    "y_runs=list(range(0,max_height - block_x, block_x))\n",
    "\n",
    "for width_index in tqdm(x_runs):\n",
    "    for height_index in y_runs:\n",
    "        grey_array = band.ReadAsArray(width_index, height_index, block_x, block_x)  #the subset image with the specified channel\n",
    "        # damit habe ich band 1. jetzt muss die entfernung jedes pixels (bzw seiner coordinaten) zu einer linie dazu\n",
    "        # hier ist der offset noch nicht berücksichtigt\n",
    "        pixel_coordinates = np.array([pixel2coord(xi[0][0], xi[0][1]) for xi in np.ndenumerate(grey_array)])\n",
    "\n",
    "        #make geopandas series\n",
    "        gpd_pixel_coordinates = gpd.GeoSeries([geom.Point(row[0], row[1]) for row in pixel_coordinates])\n",
    "\n",
    "        # Read Nadir\n",
    "        temp = pd.read_csv('test', sep = ',', names = column_names_of_csv)\n",
    "        geometry = [Point(xy) for xy in zip(temp.Longitude, temp.Latitude)]\n",
    "        df_lines = gpd.GeoDataFrame(temp, geometry=geometry)\n",
    "        df_lines = df_lines.groupby(['filename'])['geometry'].apply(lambda x: LineString(x.tolist()) if x.size > 1 else x.tolist())\n",
    "\n",
    "\n",
    "        # Get distance to Nadir for each Pixel\n",
    "        min_dist = np.empty(len(gpd_pixel_coordinates))\n",
    "        for i, point in enumerate(gpd_pixel_coordinates):\n",
    "            min_dist[i] = np.min([point.distance(line) for line in df_lines])\n",
    "\n",
    "        # auf 0-255 skalieren\n",
    "        min_dist = ((min_dist - np.min(min_dist)) / (np.max(min_dist) - np.min(min_dist))) * 255 \n",
    "        min_dist = np.round(min_dist).astype(int)\n",
    "\n",
    "        # add min dist to grey_image as band\n",
    "        min_dist = min_dist.reshape(block_x,block_x) # reshape to block_x, block_x (nur Quadrate)\n",
    "\n",
    "        merge = np.dstack((grey_array, min_dist))\n",
    "\n",
    "        #add texture or second bs channel? -> for now using the same channel twice\n",
    "        merge = np.dstack((merge, grey_array))\n",
    "\n",
    "        # plot\n",
    "        #plt.imshow(grey_array, cmap='gray')\n",
    "        #plt.colorbar()\n",
    "        #plt.show()\n",
    "        \n",
    "        # pass to retinanet"
   ]
  },
  {
   "cell_type": "code",
   "execution_count": 63,
   "metadata": {},
   "outputs": [
    {
     "name": "stdout",
     "output_type": "stream",
     "text": [
      "filename\n",
      "xx    LINESTRING (10 54, 11 55, 11 56)\n",
      "Name: geometry, dtype: object\n",
      "[[ 746017.10600667 6056186.68281129]\n",
      " [ 746017.10600667 6056186.43283388]\n",
      " [ 746017.10600667 6056186.18285648]\n",
      " ...\n",
      " [ 746041.85732769 6056162.43500254]\n",
      " [ 746041.85732769 6056162.18502513]\n",
      " [ 746041.85732769 6056161.93504772]]\n"
     ]
    }
   ],
   "source": [
    "print(df_lines)\n",
    "print(pixel_coordinates)"
   ]
  },
  {
   "cell_type": "code",
   "execution_count": null,
   "metadata": {
    "pycharm": {
     "name": "#%%\n"
    }
   },
   "outputs": [],
   "source": []
  },
  {
   "cell_type": "code",
   "execution_count": null,
   "metadata": {
    "pycharm": {
     "name": "#%%\n"
    }
   },
   "outputs": [],
   "source": [
    "\n",
    "\n",
    ")\n",
    "\n",
    "\n",
    "\n"
   ]
  },
  {
   "cell_type": "code",
   "execution_count": null,
   "metadata": {},
   "outputs": [],
   "source": [
    "data = myfile.ReadAsArray(x_offset, y_offset, x_size, y_size)"
   ]
  }
 ],
 "metadata": {
  "kernelspec": {
   "display_name": "Python 3",
   "language": "python",
   "name": "python3"
  },
  "language_info": {
   "codemirror_mode": {
    "name": "ipython",
    "version": 3
   },
   "file_extension": ".py",
   "mimetype": "text/x-python",
   "name": "python",
   "nbconvert_exporter": "python",
   "pygments_lexer": "ipython3",
   "version": "3.6.6"
  }
 },
 "nbformat": 4,
 "nbformat_minor": 1
}